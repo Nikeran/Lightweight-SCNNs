{
 "cells": [
  {
   "cell_type": "code",
   "execution_count": 1,
   "id": "48313b94",
   "metadata": {},
   "outputs": [],
   "source": [
    "import torch\n",
    "import torch.nn as nn\n",
    "from torch.utils.data import DataLoader\n",
    "from torchvision import datasets, transforms\n",
    "import torch.optim as optim\n",
    "\n",
    "\n",
    "from training.train import train_model\n",
    "from utils.transforms import get_transforms\n",
    "from models.ResNet_SC import build_model"
   ]
  },
  {
   "cell_type": "code",
   "execution_count": 2,
   "id": "dcd2ae45",
   "metadata": {},
   "outputs": [
    {
     "name": "stdout",
     "output_type": "stream",
     "text": [
      "Using device: mps\n"
     ]
    }
   ],
   "source": [
    "# Hyperparameters\n",
    "batch_size = 128\n",
    "num_epochs = 50\n",
    "lr = 0.005\n",
    "num_classes = 10\n",
    "\n",
    "\n",
    "# Select device: prefer CUDA, then Apple MPS (for Apple Silicon), otherwise CPU\n",
    "if torch.cuda.is_available():\n",
    "    device = torch.device(\"cuda\")\n",
    "elif hasattr(torch.backends, \"mps\") and torch.backends.mps.is_available():\n",
    "    device = torch.device(\"mps\")\n",
    "else:\n",
    "    device = torch.device(\"cpu\")\n",
    "\n",
    "print(f\"Using device: {device}\")\n",
    "\n"
   ]
  },
  {
   "cell_type": "markdown",
   "id": "66bf5023",
   "metadata": {},
   "source": [
    "## 1) Load data\n",
    "\n"
   ]
  },
  {
   "cell_type": "code",
   "execution_count": 3,
   "id": "dd0121d2",
   "metadata": {},
   "outputs": [],
   "source": [
    "train_transform = get_transforms(split='train')\n",
    "test_transform = get_transforms(split='test')\n",
    "\n",
    "\n",
    "\n",
    "train_dataset = datasets.CIFAR10(\n",
    "    root=\"./data\",          \n",
    "    train=True,             \n",
    "    download=True,          \n",
    "    transform=train_transform\n",
    ")\n",
    "\n",
    "test_dataset = datasets.CIFAR10(\n",
    "    root=\"./data\",\n",
    "    train=False,\n",
    "    download=True,\n",
    "    transform=test_transform\n",
    ")\n",
    "\n",
    "train_loader = DataLoader(\n",
    "    train_dataset,\n",
    "    batch_size=batch_size,\n",
    "    shuffle=True,      # shuffle training data each epoch\n",
    "    num_workers=8      # adjust number of workers to your machine\n",
    ")\n",
    "\n",
    "test_loader = DataLoader(\n",
    "    test_dataset,\n",
    "    batch_size=batch_size,\n",
    "    shuffle=False,     # no need to shuffle test/validation data\n",
    "    num_workers=8\n",
    ")"
   ]
  },
  {
   "cell_type": "markdown",
   "id": "6f7034e4",
   "metadata": {},
   "source": [
    "## 2) Create model"
   ]
  },
  {
   "cell_type": "code",
   "execution_count": 4,
   "id": "7c25fa8d",
   "metadata": {},
   "outputs": [
    {
     "name": "stderr",
     "output_type": "stream",
     "text": [
      "/Users/codiri/installs/miniconda3/envs/SCNN/lib/python3.12/site-packages/torchvision/models/_utils.py:208: UserWarning: The parameter 'pretrained' is deprecated since 0.13 and may be removed in the future, please use 'weights' instead.\n",
      "  warnings.warn(\n",
      "/Users/codiri/installs/miniconda3/envs/SCNN/lib/python3.12/site-packages/torchvision/models/_utils.py:223: UserWarning: Arguments other than a weight enum or `None` for 'weights' are deprecated since 0.13 and may be removed in the future. The current behavior is equivalent to passing `weights=None`.\n",
      "  warnings.warn(msg)\n"
     ]
    }
   ],
   "source": [
    "# (1) Plain ResNet-18 (no self-correction)\n",
    "model_plain = build_model(\n",
    "    num_classes=num_classes,\n",
    "    use_adabn=False,\n",
    "    use_cbam=False,\n",
    "    use_proto=False\n",
    ").to(device)\n",
    "\n",
    "# (2) ResNet-18 + AdaBN\n",
    "model_adabn = build_model(\n",
    "    num_classes=num_classes,\n",
    "    use_adabn=True,\n",
    "    use_cbam=False,\n",
    "    use_proto=False\n",
    ").to(device)\n",
    "\n",
    "# (3) ResNet-18 + CBAM\n",
    "model_cbam = build_model(\n",
    "    num_classes=num_classes,\n",
    "    use_adabn=False,\n",
    "    use_cbam=True,\n",
    "    use_proto=False\n",
    ").to(device)\n",
    "\n",
    "# (4) ResNet-18 + Prototype Alignment\n",
    "model_proto = build_model(\n",
    "    num_classes=num_classes,\n",
    "    use_adabn=False,\n",
    "    use_cbam=False,\n",
    "    use_proto=True\n",
    ").to(device)\n"
   ]
  },
  {
   "cell_type": "markdown",
   "id": "a7b5363b",
   "metadata": {},
   "source": [
    "### 2.1) Model optimizers"
   ]
  },
  {
   "cell_type": "code",
   "execution_count": 5,
   "id": "2921447e",
   "metadata": {},
   "outputs": [],
   "source": [
    "criterion = nn.CrossEntropyLoss()\n",
    "\n",
    "optim  = optim.SGD(model_plain.parameters(),  lr=lr, momentum=0.9, weight_decay=5e-4)\n"
   ]
  },
  {
   "cell_type": "markdown",
   "id": "484ed0d7",
   "metadata": {},
   "source": [
    "## 3) Train model"
   ]
  },
  {
   "cell_type": "code",
   "execution_count": null,
   "id": "7acab78b",
   "metadata": {},
   "outputs": [
    {
     "name": "stdout",
     "output_type": "stream",
     "text": [
      "\n",
      "=== Training baseline: Plain ===\n",
      "[Plain][Epoch 1/50] train_loss=1.7903, train_acc=0.3327  val_loss=1.5769, val_acc=0.4448  (best=0.4448)  epoch_time=0h02m13s, ETA=1h48m58s\n",
      "[Plain][Epoch 2/50] train_loss=1.4538, train_acc=0.4690  val_loss=1.3055, val_acc=0.5465  (best=0.5465)  epoch_time=0h02m14s, ETA=1h47m28s\n"
     ]
    }
   ],
   "source": [
    "# A dictionary to store (model, optimizer) pairs for easy looping:\n",
    "baseline_dict = {\n",
    "    \"Plain\"   : (model_plain, optim),\n",
    "    \"AdaBN\"   : (model_adabn, optim),\n",
    "    \"CBAM\"    : (model_cbam,  optim),\n",
    "    \"Proto\"   : (model_proto, optim),\n",
    "}\n",
    "\n",
    "# Track best validation accuracy for each baseline:\n",
    "best_val_acc = {name: 0.0 for name in baseline_dict.keys()}\n",
    "\n",
    "for name, (model, optim) in baseline_dict.items():\n",
    "    train_model(name=name, model=model, optimizer=optim, train_loader=train_loader, test_loader=test_loader, \n",
    "                criterion=criterion, device=device, num_epochs=num_epochs)"
   ]
  }
 ],
 "metadata": {
  "kernelspec": {
   "display_name": "SCNN",
   "language": "python",
   "name": "python3"
  },
  "language_info": {
   "codemirror_mode": {
    "name": "ipython",
    "version": 3
   },
   "file_extension": ".py",
   "mimetype": "text/x-python",
   "name": "python",
   "nbconvert_exporter": "python",
   "pygments_lexer": "ipython3",
   "version": "3.12.9"
  }
 },
 "nbformat": 4,
 "nbformat_minor": 5
}
